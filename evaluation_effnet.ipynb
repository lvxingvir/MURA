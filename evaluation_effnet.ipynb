{
 "cells": [
  {
   "cell_type": "code",
   "execution_count": 40,
   "metadata": {},
   "outputs": [],
   "source": [
    "import torch\n",
    "\n",
    "from torch import nn\n",
    "from torch import optim\n",
    "from time import gmtime, strftime\n",
    "from tensorboardX import SummaryWriter\n",
    "from tqdm import tqdm\n",
    "import matplotlib.pyplot as plt\n",
    "\n",
    "\n",
    "import os\n",
    "\n",
    "# from resnet2d_ecg import *\n",
    "# from data_generator_ecg import *\n",
    "# from tools import *\n",
    "\n",
    "from model import densenet169, resnet50, resnet101, fusenet,\\\n",
    "    GLOBAL_BRANCH_DIR, LOCAL_BRANCH_DIR\n",
    "from common import config\n",
    "from utils import TrainClock, save_args, AverageMeter, AUCMeter,calculate_accuracy\n",
    "from dataset import get_dataloaders\n",
    "from dataset import calc_data_weights\n",
    "from Attention_Resnet.model.residual_attention_network_mura import ResidualAttentionModel_92 as Attentionnet\n",
    "from efficientunet import *\n",
    "\n",
    "\n",
    "from train import Session"
   ]
  },
  {
   "cell_type": "code",
   "execution_count": 42,
   "metadata": {},
   "outputs": [],
   "source": [
    "torch.backends.cudnn.benchmark = True\n",
    "LOSS_WEIGHTS = calc_data_weights()\n",
    "\n",
    "\n",
    "torch.manual_seed(1)\n",
    "torch.cuda.manual_seed(1)\n",
    "# torch.cuda.set_device(2)\n",
    "os.environ[\"CUDA_VISIBLE_DEVICES\"] = '0'\n",
    "num_classes = 1\n",
    "#model = Globalocal(depth=34, num_classes=num_classes, with_lateral = [0,0,1,1], Net_type = 'with_global_detail').cuda()\n",
    "# model = Globalocal(depth=34, num_classes=num_classes, with_lateral = False , Net_type = 'with_global').cuda()\n",
    "# model = nn.DataParallel(model)\n",
    "\n",
    "# model = ResNet(dataset='calc', depth=10, num_classes=num_classes).cuda()\n",
    "# global_branch = torch.load(GLOBAL_BRANCH_DIR)['net']\n",
    "# local_branch = torch.load(LOCAL_BRANCH_DIR)['net']\n",
    "# net = fusenet(global_branch, local_branch)\n",
    "# del global_branch, local_branch\n",
    "\n",
    "# net = resnet50()\n",
    "# net = Attentionnet()\n",
    "net = EfficientNet.from_name('efficientnet-b7', n_classes=1, pretrained=False)\n",
    "\n",
    "\n",
    "net = net.cuda()\n",
    "sess = Session(config, net=net)"
   ]
  },
  {
   "cell_type": "code",
   "execution_count": 43,
   "metadata": {},
   "outputs": [],
   "source": [
    "valid_loader = get_dataloaders('valid', batch_size=1,\n",
    "                               shuffle=False)"
   ]
  },
  {
   "cell_type": "code",
   "execution_count": 44,
   "metadata": {},
   "outputs": [],
   "source": [
    "model_load_path = r'E:\\Xing\\Data\\MURA-v1.1\\effb7_lrcos_wbce_20201223\\model'\n",
    "model_name = r'\\best_model.pth.tar'\n",
    "continue_path = model_load_path+model_name\n",
    "sess.load_checkpoint(continue_path)"
   ]
  },
  {
   "cell_type": "code",
   "execution_count": 45,
   "metadata": {},
   "outputs": [],
   "source": [
    "criterion = nn.BCELoss()"
   ]
  },
  {
   "cell_type": "code",
   "execution_count": 46,
   "metadata": {},
   "outputs": [
    {
     "data": {
      "text/plain": [
       "EfficientNet(\n",
       "  (_conv_stem): Conv2dSamePadding(3, 64, kernel_size=(3, 3), stride=(2, 2), bias=False)\n",
       "  (_bn0): BatchNorm2d(64, eps=0.001, momentum=0.010000000000000009, affine=True, track_running_stats=True)\n",
       "  (_swish): Swish()\n",
       "  (_blocks): ModuleList(\n",
       "    (0): MBConvBlock(\n",
       "      (swish): Swish()\n",
       "      (_depthwise_conv): Conv2dSamePadding(64, 64, kernel_size=(3, 3), stride=[1, 1], groups=64, bias=False)\n",
       "      (_bn1): BatchNorm2d(64, eps=0.001, momentum=0.010000000000000009, affine=True, track_running_stats=True)\n",
       "      (_se_reduce): Conv2dSamePadding(64, 16, kernel_size=(1, 1), stride=(1, 1))\n",
       "      (_se_expand): Conv2dSamePadding(16, 64, kernel_size=(1, 1), stride=(1, 1))\n",
       "      (_project_conv): Conv2dSamePadding(64, 32, kernel_size=(1, 1), stride=(1, 1), bias=False)\n",
       "      (_bn2): BatchNorm2d(32, eps=0.001, momentum=0.010000000000000009, affine=True, track_running_stats=True)\n",
       "    )\n",
       "    (1): MBConvBlock(\n",
       "      (swish): Swish()\n",
       "      (_depthwise_conv): Conv2dSamePadding(32, 32, kernel_size=(3, 3), stride=(1, 1), groups=32, bias=False)\n",
       "      (_bn1): BatchNorm2d(32, eps=0.001, momentum=0.010000000000000009, affine=True, track_running_stats=True)\n",
       "      (_se_reduce): Conv2dSamePadding(32, 8, kernel_size=(1, 1), stride=(1, 1))\n",
       "      (_se_expand): Conv2dSamePadding(8, 32, kernel_size=(1, 1), stride=(1, 1))\n",
       "      (_project_conv): Conv2dSamePadding(32, 32, kernel_size=(1, 1), stride=(1, 1), bias=False)\n",
       "      (_bn2): BatchNorm2d(32, eps=0.001, momentum=0.010000000000000009, affine=True, track_running_stats=True)\n",
       "    )\n",
       "    (2): MBConvBlock(\n",
       "      (swish): Swish()\n",
       "      (_depthwise_conv): Conv2dSamePadding(32, 32, kernel_size=(3, 3), stride=(1, 1), groups=32, bias=False)\n",
       "      (_bn1): BatchNorm2d(32, eps=0.001, momentum=0.010000000000000009, affine=True, track_running_stats=True)\n",
       "      (_se_reduce): Conv2dSamePadding(32, 8, kernel_size=(1, 1), stride=(1, 1))\n",
       "      (_se_expand): Conv2dSamePadding(8, 32, kernel_size=(1, 1), stride=(1, 1))\n",
       "      (_project_conv): Conv2dSamePadding(32, 32, kernel_size=(1, 1), stride=(1, 1), bias=False)\n",
       "      (_bn2): BatchNorm2d(32, eps=0.001, momentum=0.010000000000000009, affine=True, track_running_stats=True)\n",
       "    )\n",
       "    (3): MBConvBlock(\n",
       "      (swish): Swish()\n",
       "      (_depthwise_conv): Conv2dSamePadding(32, 32, kernel_size=(3, 3), stride=(1, 1), groups=32, bias=False)\n",
       "      (_bn1): BatchNorm2d(32, eps=0.001, momentum=0.010000000000000009, affine=True, track_running_stats=True)\n",
       "      (_se_reduce): Conv2dSamePadding(32, 8, kernel_size=(1, 1), stride=(1, 1))\n",
       "      (_se_expand): Conv2dSamePadding(8, 32, kernel_size=(1, 1), stride=(1, 1))\n",
       "      (_project_conv): Conv2dSamePadding(32, 32, kernel_size=(1, 1), stride=(1, 1), bias=False)\n",
       "      (_bn2): BatchNorm2d(32, eps=0.001, momentum=0.010000000000000009, affine=True, track_running_stats=True)\n",
       "    )\n",
       "    (4): MBConvBlock(\n",
       "      (swish): Swish()\n",
       "      (_expand_conv): Conv2dSamePadding(32, 192, kernel_size=(1, 1), stride=(1, 1), bias=False)\n",
       "      (_bn0): BatchNorm2d(192, eps=0.001, momentum=0.010000000000000009, affine=True, track_running_stats=True)\n",
       "      (_depthwise_conv): Conv2dSamePadding(192, 192, kernel_size=(3, 3), stride=[2, 2], groups=192, bias=False)\n",
       "      (_bn1): BatchNorm2d(192, eps=0.001, momentum=0.010000000000000009, affine=True, track_running_stats=True)\n",
       "      (_se_reduce): Conv2dSamePadding(192, 8, kernel_size=(1, 1), stride=(1, 1))\n",
       "      (_se_expand): Conv2dSamePadding(8, 192, kernel_size=(1, 1), stride=(1, 1))\n",
       "      (_project_conv): Conv2dSamePadding(192, 48, kernel_size=(1, 1), stride=(1, 1), bias=False)\n",
       "      (_bn2): BatchNorm2d(48, eps=0.001, momentum=0.010000000000000009, affine=True, track_running_stats=True)\n",
       "    )\n",
       "    (5): MBConvBlock(\n",
       "      (swish): Swish()\n",
       "      (_expand_conv): Conv2dSamePadding(48, 288, kernel_size=(1, 1), stride=(1, 1), bias=False)\n",
       "      (_bn0): BatchNorm2d(288, eps=0.001, momentum=0.010000000000000009, affine=True, track_running_stats=True)\n",
       "      (_depthwise_conv): Conv2dSamePadding(288, 288, kernel_size=(3, 3), stride=(1, 1), groups=288, bias=False)\n",
       "      (_bn1): BatchNorm2d(288, eps=0.001, momentum=0.010000000000000009, affine=True, track_running_stats=True)\n",
       "      (_se_reduce): Conv2dSamePadding(288, 12, kernel_size=(1, 1), stride=(1, 1))\n",
       "      (_se_expand): Conv2dSamePadding(12, 288, kernel_size=(1, 1), stride=(1, 1))\n",
       "      (_project_conv): Conv2dSamePadding(288, 48, kernel_size=(1, 1), stride=(1, 1), bias=False)\n",
       "      (_bn2): BatchNorm2d(48, eps=0.001, momentum=0.010000000000000009, affine=True, track_running_stats=True)\n",
       "    )\n",
       "    (6): MBConvBlock(\n",
       "      (swish): Swish()\n",
       "      (_expand_conv): Conv2dSamePadding(48, 288, kernel_size=(1, 1), stride=(1, 1), bias=False)\n",
       "      (_bn0): BatchNorm2d(288, eps=0.001, momentum=0.010000000000000009, affine=True, track_running_stats=True)\n",
       "      (_depthwise_conv): Conv2dSamePadding(288, 288, kernel_size=(3, 3), stride=(1, 1), groups=288, bias=False)\n",
       "      (_bn1): BatchNorm2d(288, eps=0.001, momentum=0.010000000000000009, affine=True, track_running_stats=True)\n",
       "      (_se_reduce): Conv2dSamePadding(288, 12, kernel_size=(1, 1), stride=(1, 1))\n",
       "      (_se_expand): Conv2dSamePadding(12, 288, kernel_size=(1, 1), stride=(1, 1))\n",
       "      (_project_conv): Conv2dSamePadding(288, 48, kernel_size=(1, 1), stride=(1, 1), bias=False)\n",
       "      (_bn2): BatchNorm2d(48, eps=0.001, momentum=0.010000000000000009, affine=True, track_running_stats=True)\n",
       "    )\n",
       "    (7): MBConvBlock(\n",
       "      (swish): Swish()\n",
       "      (_expand_conv): Conv2dSamePadding(48, 288, kernel_size=(1, 1), stride=(1, 1), bias=False)\n",
       "      (_bn0): BatchNorm2d(288, eps=0.001, momentum=0.010000000000000009, affine=True, track_running_stats=True)\n",
       "      (_depthwise_conv): Conv2dSamePadding(288, 288, kernel_size=(3, 3), stride=(1, 1), groups=288, bias=False)\n",
       "      (_bn1): BatchNorm2d(288, eps=0.001, momentum=0.010000000000000009, affine=True, track_running_stats=True)\n",
       "      (_se_reduce): Conv2dSamePadding(288, 12, kernel_size=(1, 1), stride=(1, 1))\n",
       "      (_se_expand): Conv2dSamePadding(12, 288, kernel_size=(1, 1), stride=(1, 1))\n",
       "      (_project_conv): Conv2dSamePadding(288, 48, kernel_size=(1, 1), stride=(1, 1), bias=False)\n",
       "      (_bn2): BatchNorm2d(48, eps=0.001, momentum=0.010000000000000009, affine=True, track_running_stats=True)\n",
       "    )\n",
       "    (8): MBConvBlock(\n",
       "      (swish): Swish()\n",
       "      (_expand_conv): Conv2dSamePadding(48, 288, kernel_size=(1, 1), stride=(1, 1), bias=False)\n",
       "      (_bn0): BatchNorm2d(288, eps=0.001, momentum=0.010000000000000009, affine=True, track_running_stats=True)\n",
       "      (_depthwise_conv): Conv2dSamePadding(288, 288, kernel_size=(3, 3), stride=(1, 1), groups=288, bias=False)\n",
       "      (_bn1): BatchNorm2d(288, eps=0.001, momentum=0.010000000000000009, affine=True, track_running_stats=True)\n",
       "      (_se_reduce): Conv2dSamePadding(288, 12, kernel_size=(1, 1), stride=(1, 1))\n",
       "      (_se_expand): Conv2dSamePadding(12, 288, kernel_size=(1, 1), stride=(1, 1))\n",
       "      (_project_conv): Conv2dSamePadding(288, 48, kernel_size=(1, 1), stride=(1, 1), bias=False)\n",
       "      (_bn2): BatchNorm2d(48, eps=0.001, momentum=0.010000000000000009, affine=True, track_running_stats=True)\n",
       "    )\n",
       "    (9): MBConvBlock(\n",
       "      (swish): Swish()\n",
       "      (_expand_conv): Conv2dSamePadding(48, 288, kernel_size=(1, 1), stride=(1, 1), bias=False)\n",
       "      (_bn0): BatchNorm2d(288, eps=0.001, momentum=0.010000000000000009, affine=True, track_running_stats=True)\n",
       "      (_depthwise_conv): Conv2dSamePadding(288, 288, kernel_size=(3, 3), stride=(1, 1), groups=288, bias=False)\n",
       "      (_bn1): BatchNorm2d(288, eps=0.001, momentum=0.010000000000000009, affine=True, track_running_stats=True)\n",
       "      (_se_reduce): Conv2dSamePadding(288, 12, kernel_size=(1, 1), stride=(1, 1))\n",
       "      (_se_expand): Conv2dSamePadding(12, 288, kernel_size=(1, 1), stride=(1, 1))\n",
       "      (_project_conv): Conv2dSamePadding(288, 48, kernel_size=(1, 1), stride=(1, 1), bias=False)\n",
       "      (_bn2): BatchNorm2d(48, eps=0.001, momentum=0.010000000000000009, affine=True, track_running_stats=True)\n",
       "    )\n",
       "    (10): MBConvBlock(\n",
       "      (swish): Swish()\n",
       "      (_expand_conv): Conv2dSamePadding(48, 288, kernel_size=(1, 1), stride=(1, 1), bias=False)\n",
       "      (_bn0): BatchNorm2d(288, eps=0.001, momentum=0.010000000000000009, affine=True, track_running_stats=True)\n",
       "      (_depthwise_conv): Conv2dSamePadding(288, 288, kernel_size=(3, 3), stride=(1, 1), groups=288, bias=False)\n",
       "      (_bn1): BatchNorm2d(288, eps=0.001, momentum=0.010000000000000009, affine=True, track_running_stats=True)\n",
       "      (_se_reduce): Conv2dSamePadding(288, 12, kernel_size=(1, 1), stride=(1, 1))\n",
       "      (_se_expand): Conv2dSamePadding(12, 288, kernel_size=(1, 1), stride=(1, 1))\n",
       "      (_project_conv): Conv2dSamePadding(288, 48, kernel_size=(1, 1), stride=(1, 1), bias=False)\n",
       "      (_bn2): BatchNorm2d(48, eps=0.001, momentum=0.010000000000000009, affine=True, track_running_stats=True)\n",
       "    )\n",
       "    (11): MBConvBlock(\n",
       "      (swish): Swish()\n",
       "      (_expand_conv): Conv2dSamePadding(48, 288, kernel_size=(1, 1), stride=(1, 1), bias=False)\n",
       "      (_bn0): BatchNorm2d(288, eps=0.001, momentum=0.010000000000000009, affine=True, track_running_stats=True)\n",
       "      (_depthwise_conv): Conv2dSamePadding(288, 288, kernel_size=(5, 5), stride=[2, 2], groups=288, bias=False)\n",
       "      (_bn1): BatchNorm2d(288, eps=0.001, momentum=0.010000000000000009, affine=True, track_running_stats=True)\n",
       "      (_se_reduce): Conv2dSamePadding(288, 12, kernel_size=(1, 1), stride=(1, 1))\n",
       "      (_se_expand): Conv2dSamePadding(12, 288, kernel_size=(1, 1), stride=(1, 1))\n",
       "      (_project_conv): Conv2dSamePadding(288, 80, kernel_size=(1, 1), stride=(1, 1), bias=False)\n",
       "      (_bn2): BatchNorm2d(80, eps=0.001, momentum=0.010000000000000009, affine=True, track_running_stats=True)\n",
       "    )\n",
       "    (12): MBConvBlock(\n",
       "      (swish): Swish()\n",
       "      (_expand_conv): Conv2dSamePadding(80, 480, kernel_size=(1, 1), stride=(1, 1), bias=False)\n",
       "      (_bn0): BatchNorm2d(480, eps=0.001, momentum=0.010000000000000009, affine=True, track_running_stats=True)\n",
       "      (_depthwise_conv): Conv2dSamePadding(480, 480, kernel_size=(5, 5), stride=(1, 1), groups=480, bias=False)\n",
       "      (_bn1): BatchNorm2d(480, eps=0.001, momentum=0.010000000000000009, affine=True, track_running_stats=True)\n",
       "      (_se_reduce): Conv2dSamePadding(480, 20, kernel_size=(1, 1), stride=(1, 1))\n",
       "      (_se_expand): Conv2dSamePadding(20, 480, kernel_size=(1, 1), stride=(1, 1))\n",
       "      (_project_conv): Conv2dSamePadding(480, 80, kernel_size=(1, 1), stride=(1, 1), bias=False)\n",
       "      (_bn2): BatchNorm2d(80, eps=0.001, momentum=0.010000000000000009, affine=True, track_running_stats=True)\n",
       "    )\n",
       "    (13): MBConvBlock(\n",
       "      (swish): Swish()\n",
       "      (_expand_conv): Conv2dSamePadding(80, 480, kernel_size=(1, 1), stride=(1, 1), bias=False)\n",
       "      (_bn0): BatchNorm2d(480, eps=0.001, momentum=0.010000000000000009, affine=True, track_running_stats=True)\n",
       "      (_depthwise_conv): Conv2dSamePadding(480, 480, kernel_size=(5, 5), stride=(1, 1), groups=480, bias=False)\n",
       "      (_bn1): BatchNorm2d(480, eps=0.001, momentum=0.010000000000000009, affine=True, track_running_stats=True)\n",
       "      (_se_reduce): Conv2dSamePadding(480, 20, kernel_size=(1, 1), stride=(1, 1))\n",
       "      (_se_expand): Conv2dSamePadding(20, 480, kernel_size=(1, 1), stride=(1, 1))\n",
       "      (_project_conv): Conv2dSamePadding(480, 80, kernel_size=(1, 1), stride=(1, 1), bias=False)\n",
       "      (_bn2): BatchNorm2d(80, eps=0.001, momentum=0.010000000000000009, affine=True, track_running_stats=True)\n",
       "    )\n",
       "    (14): MBConvBlock(\n",
       "      (swish): Swish()\n",
       "      (_expand_conv): Conv2dSamePadding(80, 480, kernel_size=(1, 1), stride=(1, 1), bias=False)\n",
       "      (_bn0): BatchNorm2d(480, eps=0.001, momentum=0.010000000000000009, affine=True, track_running_stats=True)\n",
       "      (_depthwise_conv): Conv2dSamePadding(480, 480, kernel_size=(5, 5), stride=(1, 1), groups=480, bias=False)\n",
       "      (_bn1): BatchNorm2d(480, eps=0.001, momentum=0.010000000000000009, affine=True, track_running_stats=True)\n",
       "      (_se_reduce): Conv2dSamePadding(480, 20, kernel_size=(1, 1), stride=(1, 1))\n",
       "      (_se_expand): Conv2dSamePadding(20, 480, kernel_size=(1, 1), stride=(1, 1))\n",
       "      (_project_conv): Conv2dSamePadding(480, 80, kernel_size=(1, 1), stride=(1, 1), bias=False)\n",
       "      (_bn2): BatchNorm2d(80, eps=0.001, momentum=0.010000000000000009, affine=True, track_running_stats=True)\n",
       "    )\n",
       "    (15): MBConvBlock(\n",
       "      (swish): Swish()\n",
       "      (_expand_conv): Conv2dSamePadding(80, 480, kernel_size=(1, 1), stride=(1, 1), bias=False)\n",
       "      (_bn0): BatchNorm2d(480, eps=0.001, momentum=0.010000000000000009, affine=True, track_running_stats=True)\n",
       "      (_depthwise_conv): Conv2dSamePadding(480, 480, kernel_size=(5, 5), stride=(1, 1), groups=480, bias=False)\n",
       "      (_bn1): BatchNorm2d(480, eps=0.001, momentum=0.010000000000000009, affine=True, track_running_stats=True)\n",
       "      (_se_reduce): Conv2dSamePadding(480, 20, kernel_size=(1, 1), stride=(1, 1))\n",
       "      (_se_expand): Conv2dSamePadding(20, 480, kernel_size=(1, 1), stride=(1, 1))\n",
       "      (_project_conv): Conv2dSamePadding(480, 80, kernel_size=(1, 1), stride=(1, 1), bias=False)\n",
       "      (_bn2): BatchNorm2d(80, eps=0.001, momentum=0.010000000000000009, affine=True, track_running_stats=True)\n",
       "    )\n",
       "    (16): MBConvBlock(\n",
       "      (swish): Swish()\n",
       "      (_expand_conv): Conv2dSamePadding(80, 480, kernel_size=(1, 1), stride=(1, 1), bias=False)\n",
       "      (_bn0): BatchNorm2d(480, eps=0.001, momentum=0.010000000000000009, affine=True, track_running_stats=True)\n",
       "      (_depthwise_conv): Conv2dSamePadding(480, 480, kernel_size=(5, 5), stride=(1, 1), groups=480, bias=False)\n",
       "      (_bn1): BatchNorm2d(480, eps=0.001, momentum=0.010000000000000009, affine=True, track_running_stats=True)\n",
       "      (_se_reduce): Conv2dSamePadding(480, 20, kernel_size=(1, 1), stride=(1, 1))\n",
       "      (_se_expand): Conv2dSamePadding(20, 480, kernel_size=(1, 1), stride=(1, 1))\n",
       "      (_project_conv): Conv2dSamePadding(480, 80, kernel_size=(1, 1), stride=(1, 1), bias=False)\n",
       "      (_bn2): BatchNorm2d(80, eps=0.001, momentum=0.010000000000000009, affine=True, track_running_stats=True)\n",
       "    )\n",
       "    (17): MBConvBlock(\n",
       "      (swish): Swish()\n",
       "      (_expand_conv): Conv2dSamePadding(80, 480, kernel_size=(1, 1), stride=(1, 1), bias=False)\n",
       "      (_bn0): BatchNorm2d(480, eps=0.001, momentum=0.010000000000000009, affine=True, track_running_stats=True)\n",
       "      (_depthwise_conv): Conv2dSamePadding(480, 480, kernel_size=(5, 5), stride=(1, 1), groups=480, bias=False)\n",
       "      (_bn1): BatchNorm2d(480, eps=0.001, momentum=0.010000000000000009, affine=True, track_running_stats=True)\n",
       "      (_se_reduce): Conv2dSamePadding(480, 20, kernel_size=(1, 1), stride=(1, 1))\n",
       "      (_se_expand): Conv2dSamePadding(20, 480, kernel_size=(1, 1), stride=(1, 1))\n",
       "      (_project_conv): Conv2dSamePadding(480, 80, kernel_size=(1, 1), stride=(1, 1), bias=False)\n",
       "      (_bn2): BatchNorm2d(80, eps=0.001, momentum=0.010000000000000009, affine=True, track_running_stats=True)\n",
       "    )\n",
       "    (18): MBConvBlock(\n",
       "      (swish): Swish()\n",
       "      (_expand_conv): Conv2dSamePadding(80, 480, kernel_size=(1, 1), stride=(1, 1), bias=False)\n",
       "      (_bn0): BatchNorm2d(480, eps=0.001, momentum=0.010000000000000009, affine=True, track_running_stats=True)\n",
       "      (_depthwise_conv): Conv2dSamePadding(480, 480, kernel_size=(3, 3), stride=[2, 2], groups=480, bias=False)\n",
       "      (_bn1): BatchNorm2d(480, eps=0.001, momentum=0.010000000000000009, affine=True, track_running_stats=True)\n",
       "      (_se_reduce): Conv2dSamePadding(480, 20, kernel_size=(1, 1), stride=(1, 1))\n",
       "      (_se_expand): Conv2dSamePadding(20, 480, kernel_size=(1, 1), stride=(1, 1))\n",
       "      (_project_conv): Conv2dSamePadding(480, 160, kernel_size=(1, 1), stride=(1, 1), bias=False)\n",
       "      (_bn2): BatchNorm2d(160, eps=0.001, momentum=0.010000000000000009, affine=True, track_running_stats=True)\n",
       "    )\n",
       "    (19): MBConvBlock(\n",
       "      (swish): Swish()\n",
       "      (_expand_conv): Conv2dSamePadding(160, 960, kernel_size=(1, 1), stride=(1, 1), bias=False)\n",
       "      (_bn0): BatchNorm2d(960, eps=0.001, momentum=0.010000000000000009, affine=True, track_running_stats=True)\n",
       "      (_depthwise_conv): Conv2dSamePadding(960, 960, kernel_size=(3, 3), stride=(1, 1), groups=960, bias=False)\n",
       "      (_bn1): BatchNorm2d(960, eps=0.001, momentum=0.010000000000000009, affine=True, track_running_stats=True)\n",
       "      (_se_reduce): Conv2dSamePadding(960, 40, kernel_size=(1, 1), stride=(1, 1))\n",
       "      (_se_expand): Conv2dSamePadding(40, 960, kernel_size=(1, 1), stride=(1, 1))\n",
       "      (_project_conv): Conv2dSamePadding(960, 160, kernel_size=(1, 1), stride=(1, 1), bias=False)\n",
       "      (_bn2): BatchNorm2d(160, eps=0.001, momentum=0.010000000000000009, affine=True, track_running_stats=True)\n",
       "    )\n",
       "    (20): MBConvBlock(\n",
       "      (swish): Swish()\n",
       "      (_expand_conv): Conv2dSamePadding(160, 960, kernel_size=(1, 1), stride=(1, 1), bias=False)\n",
       "      (_bn0): BatchNorm2d(960, eps=0.001, momentum=0.010000000000000009, affine=True, track_running_stats=True)\n",
       "      (_depthwise_conv): Conv2dSamePadding(960, 960, kernel_size=(3, 3), stride=(1, 1), groups=960, bias=False)\n",
       "      (_bn1): BatchNorm2d(960, eps=0.001, momentum=0.010000000000000009, affine=True, track_running_stats=True)\n",
       "      (_se_reduce): Conv2dSamePadding(960, 40, kernel_size=(1, 1), stride=(1, 1))\n",
       "      (_se_expand): Conv2dSamePadding(40, 960, kernel_size=(1, 1), stride=(1, 1))\n",
       "      (_project_conv): Conv2dSamePadding(960, 160, kernel_size=(1, 1), stride=(1, 1), bias=False)\n",
       "      (_bn2): BatchNorm2d(160, eps=0.001, momentum=0.010000000000000009, affine=True, track_running_stats=True)\n",
       "    )\n",
       "    (21): MBConvBlock(\n",
       "      (swish): Swish()\n",
       "      (_expand_conv): Conv2dSamePadding(160, 960, kernel_size=(1, 1), stride=(1, 1), bias=False)\n",
       "      (_bn0): BatchNorm2d(960, eps=0.001, momentum=0.010000000000000009, affine=True, track_running_stats=True)\n",
       "      (_depthwise_conv): Conv2dSamePadding(960, 960, kernel_size=(3, 3), stride=(1, 1), groups=960, bias=False)\n",
       "      (_bn1): BatchNorm2d(960, eps=0.001, momentum=0.010000000000000009, affine=True, track_running_stats=True)\n",
       "      (_se_reduce): Conv2dSamePadding(960, 40, kernel_size=(1, 1), stride=(1, 1))\n",
       "      (_se_expand): Conv2dSamePadding(40, 960, kernel_size=(1, 1), stride=(1, 1))\n",
       "      (_project_conv): Conv2dSamePadding(960, 160, kernel_size=(1, 1), stride=(1, 1), bias=False)\n",
       "      (_bn2): BatchNorm2d(160, eps=0.001, momentum=0.010000000000000009, affine=True, track_running_stats=True)\n",
       "    )\n",
       "    (22): MBConvBlock(\n",
       "      (swish): Swish()\n",
       "      (_expand_conv): Conv2dSamePadding(160, 960, kernel_size=(1, 1), stride=(1, 1), bias=False)\n",
       "      (_bn0): BatchNorm2d(960, eps=0.001, momentum=0.010000000000000009, affine=True, track_running_stats=True)\n",
       "      (_depthwise_conv): Conv2dSamePadding(960, 960, kernel_size=(3, 3), stride=(1, 1), groups=960, bias=False)\n",
       "      (_bn1): BatchNorm2d(960, eps=0.001, momentum=0.010000000000000009, affine=True, track_running_stats=True)\n",
       "      (_se_reduce): Conv2dSamePadding(960, 40, kernel_size=(1, 1), stride=(1, 1))\n",
       "      (_se_expand): Conv2dSamePadding(40, 960, kernel_size=(1, 1), stride=(1, 1))\n",
       "      (_project_conv): Conv2dSamePadding(960, 160, kernel_size=(1, 1), stride=(1, 1), bias=False)\n",
       "      (_bn2): BatchNorm2d(160, eps=0.001, momentum=0.010000000000000009, affine=True, track_running_stats=True)\n",
       "    )\n",
       "    (23): MBConvBlock(\n",
       "      (swish): Swish()\n",
       "      (_expand_conv): Conv2dSamePadding(160, 960, kernel_size=(1, 1), stride=(1, 1), bias=False)\n",
       "      (_bn0): BatchNorm2d(960, eps=0.001, momentum=0.010000000000000009, affine=True, track_running_stats=True)\n",
       "      (_depthwise_conv): Conv2dSamePadding(960, 960, kernel_size=(3, 3), stride=(1, 1), groups=960, bias=False)\n",
       "      (_bn1): BatchNorm2d(960, eps=0.001, momentum=0.010000000000000009, affine=True, track_running_stats=True)\n",
       "      (_se_reduce): Conv2dSamePadding(960, 40, kernel_size=(1, 1), stride=(1, 1))\n",
       "      (_se_expand): Conv2dSamePadding(40, 960, kernel_size=(1, 1), stride=(1, 1))\n",
       "      (_project_conv): Conv2dSamePadding(960, 160, kernel_size=(1, 1), stride=(1, 1), bias=False)\n",
       "      (_bn2): BatchNorm2d(160, eps=0.001, momentum=0.010000000000000009, affine=True, track_running_stats=True)\n",
       "    )\n",
       "    (24): MBConvBlock(\n",
       "      (swish): Swish()\n",
       "      (_expand_conv): Conv2dSamePadding(160, 960, kernel_size=(1, 1), stride=(1, 1), bias=False)\n",
       "      (_bn0): BatchNorm2d(960, eps=0.001, momentum=0.010000000000000009, affine=True, track_running_stats=True)\n",
       "      (_depthwise_conv): Conv2dSamePadding(960, 960, kernel_size=(3, 3), stride=(1, 1), groups=960, bias=False)\n",
       "      (_bn1): BatchNorm2d(960, eps=0.001, momentum=0.010000000000000009, affine=True, track_running_stats=True)\n",
       "      (_se_reduce): Conv2dSamePadding(960, 40, kernel_size=(1, 1), stride=(1, 1))\n",
       "      (_se_expand): Conv2dSamePadding(40, 960, kernel_size=(1, 1), stride=(1, 1))\n",
       "      (_project_conv): Conv2dSamePadding(960, 160, kernel_size=(1, 1), stride=(1, 1), bias=False)\n",
       "      (_bn2): BatchNorm2d(160, eps=0.001, momentum=0.010000000000000009, affine=True, track_running_stats=True)\n",
       "    )\n",
       "    (25): MBConvBlock(\n",
       "      (swish): Swish()\n",
       "      (_expand_conv): Conv2dSamePadding(160, 960, kernel_size=(1, 1), stride=(1, 1), bias=False)\n",
       "      (_bn0): BatchNorm2d(960, eps=0.001, momentum=0.010000000000000009, affine=True, track_running_stats=True)\n",
       "      (_depthwise_conv): Conv2dSamePadding(960, 960, kernel_size=(3, 3), stride=(1, 1), groups=960, bias=False)\n",
       "      (_bn1): BatchNorm2d(960, eps=0.001, momentum=0.010000000000000009, affine=True, track_running_stats=True)\n",
       "      (_se_reduce): Conv2dSamePadding(960, 40, kernel_size=(1, 1), stride=(1, 1))\n",
       "      (_se_expand): Conv2dSamePadding(40, 960, kernel_size=(1, 1), stride=(1, 1))\n",
       "      (_project_conv): Conv2dSamePadding(960, 160, kernel_size=(1, 1), stride=(1, 1), bias=False)\n",
       "      (_bn2): BatchNorm2d(160, eps=0.001, momentum=0.010000000000000009, affine=True, track_running_stats=True)\n",
       "    )\n",
       "    (26): MBConvBlock(\n",
       "      (swish): Swish()\n",
       "      (_expand_conv): Conv2dSamePadding(160, 960, kernel_size=(1, 1), stride=(1, 1), bias=False)\n",
       "      (_bn0): BatchNorm2d(960, eps=0.001, momentum=0.010000000000000009, affine=True, track_running_stats=True)\n",
       "      (_depthwise_conv): Conv2dSamePadding(960, 960, kernel_size=(3, 3), stride=(1, 1), groups=960, bias=False)\n",
       "      (_bn1): BatchNorm2d(960, eps=0.001, momentum=0.010000000000000009, affine=True, track_running_stats=True)\n",
       "      (_se_reduce): Conv2dSamePadding(960, 40, kernel_size=(1, 1), stride=(1, 1))\n",
       "      (_se_expand): Conv2dSamePadding(40, 960, kernel_size=(1, 1), stride=(1, 1))\n",
       "      (_project_conv): Conv2dSamePadding(960, 160, kernel_size=(1, 1), stride=(1, 1), bias=False)\n",
       "      (_bn2): BatchNorm2d(160, eps=0.001, momentum=0.010000000000000009, affine=True, track_running_stats=True)\n",
       "    )\n",
       "    (27): MBConvBlock(\n",
       "      (swish): Swish()\n",
       "      (_expand_conv): Conv2dSamePadding(160, 960, kernel_size=(1, 1), stride=(1, 1), bias=False)\n",
       "      (_bn0): BatchNorm2d(960, eps=0.001, momentum=0.010000000000000009, affine=True, track_running_stats=True)\n",
       "      (_depthwise_conv): Conv2dSamePadding(960, 960, kernel_size=(3, 3), stride=(1, 1), groups=960, bias=False)\n",
       "      (_bn1): BatchNorm2d(960, eps=0.001, momentum=0.010000000000000009, affine=True, track_running_stats=True)\n",
       "      (_se_reduce): Conv2dSamePadding(960, 40, kernel_size=(1, 1), stride=(1, 1))\n",
       "      (_se_expand): Conv2dSamePadding(40, 960, kernel_size=(1, 1), stride=(1, 1))\n",
       "      (_project_conv): Conv2dSamePadding(960, 160, kernel_size=(1, 1), stride=(1, 1), bias=False)\n",
       "      (_bn2): BatchNorm2d(160, eps=0.001, momentum=0.010000000000000009, affine=True, track_running_stats=True)\n",
       "    )\n",
       "    (28): MBConvBlock(\n",
       "      (swish): Swish()\n",
       "      (_expand_conv): Conv2dSamePadding(160, 960, kernel_size=(1, 1), stride=(1, 1), bias=False)\n",
       "      (_bn0): BatchNorm2d(960, eps=0.001, momentum=0.010000000000000009, affine=True, track_running_stats=True)\n",
       "      (_depthwise_conv): Conv2dSamePadding(960, 960, kernel_size=(5, 5), stride=[1, 1], groups=960, bias=False)\n",
       "      (_bn1): BatchNorm2d(960, eps=0.001, momentum=0.010000000000000009, affine=True, track_running_stats=True)\n",
       "      (_se_reduce): Conv2dSamePadding(960, 40, kernel_size=(1, 1), stride=(1, 1))\n",
       "      (_se_expand): Conv2dSamePadding(40, 960, kernel_size=(1, 1), stride=(1, 1))\n",
       "      (_project_conv): Conv2dSamePadding(960, 224, kernel_size=(1, 1), stride=(1, 1), bias=False)\n",
       "      (_bn2): BatchNorm2d(224, eps=0.001, momentum=0.010000000000000009, affine=True, track_running_stats=True)\n",
       "    )\n",
       "    (29): MBConvBlock(\n",
       "      (swish): Swish()\n",
       "      (_expand_conv): Conv2dSamePadding(224, 1344, kernel_size=(1, 1), stride=(1, 1), bias=False)\n",
       "      (_bn0): BatchNorm2d(1344, eps=0.001, momentum=0.010000000000000009, affine=True, track_running_stats=True)\n",
       "      (_depthwise_conv): Conv2dSamePadding(1344, 1344, kernel_size=(5, 5), stride=(1, 1), groups=1344, bias=False)\n",
       "      (_bn1): BatchNorm2d(1344, eps=0.001, momentum=0.010000000000000009, affine=True, track_running_stats=True)\n",
       "      (_se_reduce): Conv2dSamePadding(1344, 56, kernel_size=(1, 1), stride=(1, 1))\n",
       "      (_se_expand): Conv2dSamePadding(56, 1344, kernel_size=(1, 1), stride=(1, 1))\n",
       "      (_project_conv): Conv2dSamePadding(1344, 224, kernel_size=(1, 1), stride=(1, 1), bias=False)\n",
       "      (_bn2): BatchNorm2d(224, eps=0.001, momentum=0.010000000000000009, affine=True, track_running_stats=True)\n",
       "    )\n",
       "    (30): MBConvBlock(\n",
       "      (swish): Swish()\n",
       "      (_expand_conv): Conv2dSamePadding(224, 1344, kernel_size=(1, 1), stride=(1, 1), bias=False)\n",
       "      (_bn0): BatchNorm2d(1344, eps=0.001, momentum=0.010000000000000009, affine=True, track_running_stats=True)\n",
       "      (_depthwise_conv): Conv2dSamePadding(1344, 1344, kernel_size=(5, 5), stride=(1, 1), groups=1344, bias=False)\n",
       "      (_bn1): BatchNorm2d(1344, eps=0.001, momentum=0.010000000000000009, affine=True, track_running_stats=True)\n",
       "      (_se_reduce): Conv2dSamePadding(1344, 56, kernel_size=(1, 1), stride=(1, 1))\n",
       "      (_se_expand): Conv2dSamePadding(56, 1344, kernel_size=(1, 1), stride=(1, 1))\n",
       "      (_project_conv): Conv2dSamePadding(1344, 224, kernel_size=(1, 1), stride=(1, 1), bias=False)\n",
       "      (_bn2): BatchNorm2d(224, eps=0.001, momentum=0.010000000000000009, affine=True, track_running_stats=True)\n",
       "    )\n",
       "    (31): MBConvBlock(\n",
       "      (swish): Swish()\n",
       "      (_expand_conv): Conv2dSamePadding(224, 1344, kernel_size=(1, 1), stride=(1, 1), bias=False)\n",
       "      (_bn0): BatchNorm2d(1344, eps=0.001, momentum=0.010000000000000009, affine=True, track_running_stats=True)\n",
       "      (_depthwise_conv): Conv2dSamePadding(1344, 1344, kernel_size=(5, 5), stride=(1, 1), groups=1344, bias=False)\n",
       "      (_bn1): BatchNorm2d(1344, eps=0.001, momentum=0.010000000000000009, affine=True, track_running_stats=True)\n",
       "      (_se_reduce): Conv2dSamePadding(1344, 56, kernel_size=(1, 1), stride=(1, 1))\n",
       "      (_se_expand): Conv2dSamePadding(56, 1344, kernel_size=(1, 1), stride=(1, 1))\n",
       "      (_project_conv): Conv2dSamePadding(1344, 224, kernel_size=(1, 1), stride=(1, 1), bias=False)\n",
       "      (_bn2): BatchNorm2d(224, eps=0.001, momentum=0.010000000000000009, affine=True, track_running_stats=True)\n",
       "    )\n",
       "    (32): MBConvBlock(\n",
       "      (swish): Swish()\n",
       "      (_expand_conv): Conv2dSamePadding(224, 1344, kernel_size=(1, 1), stride=(1, 1), bias=False)\n",
       "      (_bn0): BatchNorm2d(1344, eps=0.001, momentum=0.010000000000000009, affine=True, track_running_stats=True)\n",
       "      (_depthwise_conv): Conv2dSamePadding(1344, 1344, kernel_size=(5, 5), stride=(1, 1), groups=1344, bias=False)\n",
       "      (_bn1): BatchNorm2d(1344, eps=0.001, momentum=0.010000000000000009, affine=True, track_running_stats=True)\n",
       "      (_se_reduce): Conv2dSamePadding(1344, 56, kernel_size=(1, 1), stride=(1, 1))\n",
       "      (_se_expand): Conv2dSamePadding(56, 1344, kernel_size=(1, 1), stride=(1, 1))\n",
       "      (_project_conv): Conv2dSamePadding(1344, 224, kernel_size=(1, 1), stride=(1, 1), bias=False)\n",
       "      (_bn2): BatchNorm2d(224, eps=0.001, momentum=0.010000000000000009, affine=True, track_running_stats=True)\n",
       "    )\n",
       "    (33): MBConvBlock(\n",
       "      (swish): Swish()\n",
       "      (_expand_conv): Conv2dSamePadding(224, 1344, kernel_size=(1, 1), stride=(1, 1), bias=False)\n",
       "      (_bn0): BatchNorm2d(1344, eps=0.001, momentum=0.010000000000000009, affine=True, track_running_stats=True)\n",
       "      (_depthwise_conv): Conv2dSamePadding(1344, 1344, kernel_size=(5, 5), stride=(1, 1), groups=1344, bias=False)\n",
       "      (_bn1): BatchNorm2d(1344, eps=0.001, momentum=0.010000000000000009, affine=True, track_running_stats=True)\n",
       "      (_se_reduce): Conv2dSamePadding(1344, 56, kernel_size=(1, 1), stride=(1, 1))\n",
       "      (_se_expand): Conv2dSamePadding(56, 1344, kernel_size=(1, 1), stride=(1, 1))\n",
       "      (_project_conv): Conv2dSamePadding(1344, 224, kernel_size=(1, 1), stride=(1, 1), bias=False)\n",
       "      (_bn2): BatchNorm2d(224, eps=0.001, momentum=0.010000000000000009, affine=True, track_running_stats=True)\n",
       "    )\n",
       "    (34): MBConvBlock(\n",
       "      (swish): Swish()\n",
       "      (_expand_conv): Conv2dSamePadding(224, 1344, kernel_size=(1, 1), stride=(1, 1), bias=False)\n",
       "      (_bn0): BatchNorm2d(1344, eps=0.001, momentum=0.010000000000000009, affine=True, track_running_stats=True)\n",
       "      (_depthwise_conv): Conv2dSamePadding(1344, 1344, kernel_size=(5, 5), stride=(1, 1), groups=1344, bias=False)\n",
       "      (_bn1): BatchNorm2d(1344, eps=0.001, momentum=0.010000000000000009, affine=True, track_running_stats=True)\n",
       "      (_se_reduce): Conv2dSamePadding(1344, 56, kernel_size=(1, 1), stride=(1, 1))\n",
       "      (_se_expand): Conv2dSamePadding(56, 1344, kernel_size=(1, 1), stride=(1, 1))\n",
       "      (_project_conv): Conv2dSamePadding(1344, 224, kernel_size=(1, 1), stride=(1, 1), bias=False)\n",
       "      (_bn2): BatchNorm2d(224, eps=0.001, momentum=0.010000000000000009, affine=True, track_running_stats=True)\n",
       "    )\n",
       "    (35): MBConvBlock(\n",
       "      (swish): Swish()\n",
       "      (_expand_conv): Conv2dSamePadding(224, 1344, kernel_size=(1, 1), stride=(1, 1), bias=False)\n",
       "      (_bn0): BatchNorm2d(1344, eps=0.001, momentum=0.010000000000000009, affine=True, track_running_stats=True)\n",
       "      (_depthwise_conv): Conv2dSamePadding(1344, 1344, kernel_size=(5, 5), stride=(1, 1), groups=1344, bias=False)\n",
       "      (_bn1): BatchNorm2d(1344, eps=0.001, momentum=0.010000000000000009, affine=True, track_running_stats=True)\n",
       "      (_se_reduce): Conv2dSamePadding(1344, 56, kernel_size=(1, 1), stride=(1, 1))\n",
       "      (_se_expand): Conv2dSamePadding(56, 1344, kernel_size=(1, 1), stride=(1, 1))\n",
       "      (_project_conv): Conv2dSamePadding(1344, 224, kernel_size=(1, 1), stride=(1, 1), bias=False)\n",
       "      (_bn2): BatchNorm2d(224, eps=0.001, momentum=0.010000000000000009, affine=True, track_running_stats=True)\n",
       "    )\n",
       "    (36): MBConvBlock(\n",
       "      (swish): Swish()\n",
       "      (_expand_conv): Conv2dSamePadding(224, 1344, kernel_size=(1, 1), stride=(1, 1), bias=False)\n",
       "      (_bn0): BatchNorm2d(1344, eps=0.001, momentum=0.010000000000000009, affine=True, track_running_stats=True)\n",
       "      (_depthwise_conv): Conv2dSamePadding(1344, 1344, kernel_size=(5, 5), stride=(1, 1), groups=1344, bias=False)\n",
       "      (_bn1): BatchNorm2d(1344, eps=0.001, momentum=0.010000000000000009, affine=True, track_running_stats=True)\n",
       "      (_se_reduce): Conv2dSamePadding(1344, 56, kernel_size=(1, 1), stride=(1, 1))\n",
       "      (_se_expand): Conv2dSamePadding(56, 1344, kernel_size=(1, 1), stride=(1, 1))\n",
       "      (_project_conv): Conv2dSamePadding(1344, 224, kernel_size=(1, 1), stride=(1, 1), bias=False)\n",
       "      (_bn2): BatchNorm2d(224, eps=0.001, momentum=0.010000000000000009, affine=True, track_running_stats=True)\n",
       "    )\n",
       "    (37): MBConvBlock(\n",
       "      (swish): Swish()\n",
       "      (_expand_conv): Conv2dSamePadding(224, 1344, kernel_size=(1, 1), stride=(1, 1), bias=False)\n",
       "      (_bn0): BatchNorm2d(1344, eps=0.001, momentum=0.010000000000000009, affine=True, track_running_stats=True)\n",
       "      (_depthwise_conv): Conv2dSamePadding(1344, 1344, kernel_size=(5, 5), stride=(1, 1), groups=1344, bias=False)\n",
       "      (_bn1): BatchNorm2d(1344, eps=0.001, momentum=0.010000000000000009, affine=True, track_running_stats=True)\n",
       "      (_se_reduce): Conv2dSamePadding(1344, 56, kernel_size=(1, 1), stride=(1, 1))\n",
       "      (_se_expand): Conv2dSamePadding(56, 1344, kernel_size=(1, 1), stride=(1, 1))\n",
       "      (_project_conv): Conv2dSamePadding(1344, 224, kernel_size=(1, 1), stride=(1, 1), bias=False)\n",
       "      (_bn2): BatchNorm2d(224, eps=0.001, momentum=0.010000000000000009, affine=True, track_running_stats=True)\n",
       "    )\n",
       "    (38): MBConvBlock(\n",
       "      (swish): Swish()\n",
       "      (_expand_conv): Conv2dSamePadding(224, 1344, kernel_size=(1, 1), stride=(1, 1), bias=False)\n",
       "      (_bn0): BatchNorm2d(1344, eps=0.001, momentum=0.010000000000000009, affine=True, track_running_stats=True)\n",
       "      (_depthwise_conv): Conv2dSamePadding(1344, 1344, kernel_size=(5, 5), stride=[2, 2], groups=1344, bias=False)\n",
       "      (_bn1): BatchNorm2d(1344, eps=0.001, momentum=0.010000000000000009, affine=True, track_running_stats=True)\n",
       "      (_se_reduce): Conv2dSamePadding(1344, 56, kernel_size=(1, 1), stride=(1, 1))\n",
       "      (_se_expand): Conv2dSamePadding(56, 1344, kernel_size=(1, 1), stride=(1, 1))\n",
       "      (_project_conv): Conv2dSamePadding(1344, 384, kernel_size=(1, 1), stride=(1, 1), bias=False)\n",
       "      (_bn2): BatchNorm2d(384, eps=0.001, momentum=0.010000000000000009, affine=True, track_running_stats=True)\n",
       "    )\n",
       "    (39): MBConvBlock(\n",
       "      (swish): Swish()\n",
       "      (_expand_conv): Conv2dSamePadding(384, 2304, kernel_size=(1, 1), stride=(1, 1), bias=False)\n",
       "      (_bn0): BatchNorm2d(2304, eps=0.001, momentum=0.010000000000000009, affine=True, track_running_stats=True)\n",
       "      (_depthwise_conv): Conv2dSamePadding(2304, 2304, kernel_size=(5, 5), stride=(1, 1), groups=2304, bias=False)\n",
       "      (_bn1): BatchNorm2d(2304, eps=0.001, momentum=0.010000000000000009, affine=True, track_running_stats=True)\n",
       "      (_se_reduce): Conv2dSamePadding(2304, 96, kernel_size=(1, 1), stride=(1, 1))\n",
       "      (_se_expand): Conv2dSamePadding(96, 2304, kernel_size=(1, 1), stride=(1, 1))\n",
       "      (_project_conv): Conv2dSamePadding(2304, 384, kernel_size=(1, 1), stride=(1, 1), bias=False)\n",
       "      (_bn2): BatchNorm2d(384, eps=0.001, momentum=0.010000000000000009, affine=True, track_running_stats=True)\n",
       "    )\n",
       "    (40): MBConvBlock(\n",
       "      (swish): Swish()\n",
       "      (_expand_conv): Conv2dSamePadding(384, 2304, kernel_size=(1, 1), stride=(1, 1), bias=False)\n",
       "      (_bn0): BatchNorm2d(2304, eps=0.001, momentum=0.010000000000000009, affine=True, track_running_stats=True)\n",
       "      (_depthwise_conv): Conv2dSamePadding(2304, 2304, kernel_size=(5, 5), stride=(1, 1), groups=2304, bias=False)\n",
       "      (_bn1): BatchNorm2d(2304, eps=0.001, momentum=0.010000000000000009, affine=True, track_running_stats=True)\n",
       "      (_se_reduce): Conv2dSamePadding(2304, 96, kernel_size=(1, 1), stride=(1, 1))\n",
       "      (_se_expand): Conv2dSamePadding(96, 2304, kernel_size=(1, 1), stride=(1, 1))\n",
       "      (_project_conv): Conv2dSamePadding(2304, 384, kernel_size=(1, 1), stride=(1, 1), bias=False)\n",
       "      (_bn2): BatchNorm2d(384, eps=0.001, momentum=0.010000000000000009, affine=True, track_running_stats=True)\n",
       "    )\n",
       "    (41): MBConvBlock(\n",
       "      (swish): Swish()\n",
       "      (_expand_conv): Conv2dSamePadding(384, 2304, kernel_size=(1, 1), stride=(1, 1), bias=False)\n",
       "      (_bn0): BatchNorm2d(2304, eps=0.001, momentum=0.010000000000000009, affine=True, track_running_stats=True)\n",
       "      (_depthwise_conv): Conv2dSamePadding(2304, 2304, kernel_size=(5, 5), stride=(1, 1), groups=2304, bias=False)\n",
       "      (_bn1): BatchNorm2d(2304, eps=0.001, momentum=0.010000000000000009, affine=True, track_running_stats=True)\n",
       "      (_se_reduce): Conv2dSamePadding(2304, 96, kernel_size=(1, 1), stride=(1, 1))\n",
       "      (_se_expand): Conv2dSamePadding(96, 2304, kernel_size=(1, 1), stride=(1, 1))\n",
       "      (_project_conv): Conv2dSamePadding(2304, 384, kernel_size=(1, 1), stride=(1, 1), bias=False)\n",
       "      (_bn2): BatchNorm2d(384, eps=0.001, momentum=0.010000000000000009, affine=True, track_running_stats=True)\n",
       "    )\n",
       "    (42): MBConvBlock(\n",
       "      (swish): Swish()\n",
       "      (_expand_conv): Conv2dSamePadding(384, 2304, kernel_size=(1, 1), stride=(1, 1), bias=False)\n",
       "      (_bn0): BatchNorm2d(2304, eps=0.001, momentum=0.010000000000000009, affine=True, track_running_stats=True)\n",
       "      (_depthwise_conv): Conv2dSamePadding(2304, 2304, kernel_size=(5, 5), stride=(1, 1), groups=2304, bias=False)\n",
       "      (_bn1): BatchNorm2d(2304, eps=0.001, momentum=0.010000000000000009, affine=True, track_running_stats=True)\n",
       "      (_se_reduce): Conv2dSamePadding(2304, 96, kernel_size=(1, 1), stride=(1, 1))\n",
       "      (_se_expand): Conv2dSamePadding(96, 2304, kernel_size=(1, 1), stride=(1, 1))\n",
       "      (_project_conv): Conv2dSamePadding(2304, 384, kernel_size=(1, 1), stride=(1, 1), bias=False)\n",
       "      (_bn2): BatchNorm2d(384, eps=0.001, momentum=0.010000000000000009, affine=True, track_running_stats=True)\n",
       "    )\n",
       "    (43): MBConvBlock(\n",
       "      (swish): Swish()\n",
       "      (_expand_conv): Conv2dSamePadding(384, 2304, kernel_size=(1, 1), stride=(1, 1), bias=False)\n",
       "      (_bn0): BatchNorm2d(2304, eps=0.001, momentum=0.010000000000000009, affine=True, track_running_stats=True)\n",
       "      (_depthwise_conv): Conv2dSamePadding(2304, 2304, kernel_size=(5, 5), stride=(1, 1), groups=2304, bias=False)\n",
       "      (_bn1): BatchNorm2d(2304, eps=0.001, momentum=0.010000000000000009, affine=True, track_running_stats=True)\n",
       "      (_se_reduce): Conv2dSamePadding(2304, 96, kernel_size=(1, 1), stride=(1, 1))\n",
       "      (_se_expand): Conv2dSamePadding(96, 2304, kernel_size=(1, 1), stride=(1, 1))\n",
       "      (_project_conv): Conv2dSamePadding(2304, 384, kernel_size=(1, 1), stride=(1, 1), bias=False)\n",
       "      (_bn2): BatchNorm2d(384, eps=0.001, momentum=0.010000000000000009, affine=True, track_running_stats=True)\n",
       "    )\n",
       "    (44): MBConvBlock(\n",
       "      (swish): Swish()\n",
       "      (_expand_conv): Conv2dSamePadding(384, 2304, kernel_size=(1, 1), stride=(1, 1), bias=False)\n",
       "      (_bn0): BatchNorm2d(2304, eps=0.001, momentum=0.010000000000000009, affine=True, track_running_stats=True)\n",
       "      (_depthwise_conv): Conv2dSamePadding(2304, 2304, kernel_size=(5, 5), stride=(1, 1), groups=2304, bias=False)\n",
       "      (_bn1): BatchNorm2d(2304, eps=0.001, momentum=0.010000000000000009, affine=True, track_running_stats=True)\n",
       "      (_se_reduce): Conv2dSamePadding(2304, 96, kernel_size=(1, 1), stride=(1, 1))\n",
       "      (_se_expand): Conv2dSamePadding(96, 2304, kernel_size=(1, 1), stride=(1, 1))\n",
       "      (_project_conv): Conv2dSamePadding(2304, 384, kernel_size=(1, 1), stride=(1, 1), bias=False)\n",
       "      (_bn2): BatchNorm2d(384, eps=0.001, momentum=0.010000000000000009, affine=True, track_running_stats=True)\n",
       "    )\n",
       "    (45): MBConvBlock(\n",
       "      (swish): Swish()\n",
       "      (_expand_conv): Conv2dSamePadding(384, 2304, kernel_size=(1, 1), stride=(1, 1), bias=False)\n",
       "      (_bn0): BatchNorm2d(2304, eps=0.001, momentum=0.010000000000000009, affine=True, track_running_stats=True)\n",
       "      (_depthwise_conv): Conv2dSamePadding(2304, 2304, kernel_size=(5, 5), stride=(1, 1), groups=2304, bias=False)\n",
       "      (_bn1): BatchNorm2d(2304, eps=0.001, momentum=0.010000000000000009, affine=True, track_running_stats=True)\n",
       "      (_se_reduce): Conv2dSamePadding(2304, 96, kernel_size=(1, 1), stride=(1, 1))\n",
       "      (_se_expand): Conv2dSamePadding(96, 2304, kernel_size=(1, 1), stride=(1, 1))\n",
       "      (_project_conv): Conv2dSamePadding(2304, 384, kernel_size=(1, 1), stride=(1, 1), bias=False)\n",
       "      (_bn2): BatchNorm2d(384, eps=0.001, momentum=0.010000000000000009, affine=True, track_running_stats=True)\n",
       "    )\n",
       "    (46): MBConvBlock(\n",
       "      (swish): Swish()\n",
       "      (_expand_conv): Conv2dSamePadding(384, 2304, kernel_size=(1, 1), stride=(1, 1), bias=False)\n",
       "      (_bn0): BatchNorm2d(2304, eps=0.001, momentum=0.010000000000000009, affine=True, track_running_stats=True)\n",
       "      (_depthwise_conv): Conv2dSamePadding(2304, 2304, kernel_size=(5, 5), stride=(1, 1), groups=2304, bias=False)\n",
       "      (_bn1): BatchNorm2d(2304, eps=0.001, momentum=0.010000000000000009, affine=True, track_running_stats=True)\n",
       "      (_se_reduce): Conv2dSamePadding(2304, 96, kernel_size=(1, 1), stride=(1, 1))\n",
       "      (_se_expand): Conv2dSamePadding(96, 2304, kernel_size=(1, 1), stride=(1, 1))\n",
       "      (_project_conv): Conv2dSamePadding(2304, 384, kernel_size=(1, 1), stride=(1, 1), bias=False)\n",
       "      (_bn2): BatchNorm2d(384, eps=0.001, momentum=0.010000000000000009, affine=True, track_running_stats=True)\n",
       "    )\n",
       "    (47): MBConvBlock(\n",
       "      (swish): Swish()\n",
       "      (_expand_conv): Conv2dSamePadding(384, 2304, kernel_size=(1, 1), stride=(1, 1), bias=False)\n",
       "      (_bn0): BatchNorm2d(2304, eps=0.001, momentum=0.010000000000000009, affine=True, track_running_stats=True)\n",
       "      (_depthwise_conv): Conv2dSamePadding(2304, 2304, kernel_size=(5, 5), stride=(1, 1), groups=2304, bias=False)\n",
       "      (_bn1): BatchNorm2d(2304, eps=0.001, momentum=0.010000000000000009, affine=True, track_running_stats=True)\n",
       "      (_se_reduce): Conv2dSamePadding(2304, 96, kernel_size=(1, 1), stride=(1, 1))\n",
       "      (_se_expand): Conv2dSamePadding(96, 2304, kernel_size=(1, 1), stride=(1, 1))\n",
       "      (_project_conv): Conv2dSamePadding(2304, 384, kernel_size=(1, 1), stride=(1, 1), bias=False)\n",
       "      (_bn2): BatchNorm2d(384, eps=0.001, momentum=0.010000000000000009, affine=True, track_running_stats=True)\n",
       "    )\n",
       "    (48): MBConvBlock(\n",
       "      (swish): Swish()\n",
       "      (_expand_conv): Conv2dSamePadding(384, 2304, kernel_size=(1, 1), stride=(1, 1), bias=False)\n",
       "      (_bn0): BatchNorm2d(2304, eps=0.001, momentum=0.010000000000000009, affine=True, track_running_stats=True)\n",
       "      (_depthwise_conv): Conv2dSamePadding(2304, 2304, kernel_size=(5, 5), stride=(1, 1), groups=2304, bias=False)\n",
       "      (_bn1): BatchNorm2d(2304, eps=0.001, momentum=0.010000000000000009, affine=True, track_running_stats=True)\n",
       "      (_se_reduce): Conv2dSamePadding(2304, 96, kernel_size=(1, 1), stride=(1, 1))\n",
       "      (_se_expand): Conv2dSamePadding(96, 2304, kernel_size=(1, 1), stride=(1, 1))\n",
       "      (_project_conv): Conv2dSamePadding(2304, 384, kernel_size=(1, 1), stride=(1, 1), bias=False)\n",
       "      (_bn2): BatchNorm2d(384, eps=0.001, momentum=0.010000000000000009, affine=True, track_running_stats=True)\n",
       "    )\n",
       "    (49): MBConvBlock(\n",
       "      (swish): Swish()\n",
       "      (_expand_conv): Conv2dSamePadding(384, 2304, kernel_size=(1, 1), stride=(1, 1), bias=False)\n",
       "      (_bn0): BatchNorm2d(2304, eps=0.001, momentum=0.010000000000000009, affine=True, track_running_stats=True)\n",
       "      (_depthwise_conv): Conv2dSamePadding(2304, 2304, kernel_size=(5, 5), stride=(1, 1), groups=2304, bias=False)\n",
       "      (_bn1): BatchNorm2d(2304, eps=0.001, momentum=0.010000000000000009, affine=True, track_running_stats=True)\n",
       "      (_se_reduce): Conv2dSamePadding(2304, 96, kernel_size=(1, 1), stride=(1, 1))\n",
       "      (_se_expand): Conv2dSamePadding(96, 2304, kernel_size=(1, 1), stride=(1, 1))\n",
       "      (_project_conv): Conv2dSamePadding(2304, 384, kernel_size=(1, 1), stride=(1, 1), bias=False)\n",
       "      (_bn2): BatchNorm2d(384, eps=0.001, momentum=0.010000000000000009, affine=True, track_running_stats=True)\n",
       "    )\n",
       "    (50): MBConvBlock(\n",
       "      (swish): Swish()\n",
       "      (_expand_conv): Conv2dSamePadding(384, 2304, kernel_size=(1, 1), stride=(1, 1), bias=False)\n",
       "      (_bn0): BatchNorm2d(2304, eps=0.001, momentum=0.010000000000000009, affine=True, track_running_stats=True)\n",
       "      (_depthwise_conv): Conv2dSamePadding(2304, 2304, kernel_size=(5, 5), stride=(1, 1), groups=2304, bias=False)\n",
       "      (_bn1): BatchNorm2d(2304, eps=0.001, momentum=0.010000000000000009, affine=True, track_running_stats=True)\n",
       "      (_se_reduce): Conv2dSamePadding(2304, 96, kernel_size=(1, 1), stride=(1, 1))\n",
       "      (_se_expand): Conv2dSamePadding(96, 2304, kernel_size=(1, 1), stride=(1, 1))\n",
       "      (_project_conv): Conv2dSamePadding(2304, 384, kernel_size=(1, 1), stride=(1, 1), bias=False)\n",
       "      (_bn2): BatchNorm2d(384, eps=0.001, momentum=0.010000000000000009, affine=True, track_running_stats=True)\n",
       "    )\n",
       "    (51): MBConvBlock(\n",
       "      (swish): Swish()\n",
       "      (_expand_conv): Conv2dSamePadding(384, 2304, kernel_size=(1, 1), stride=(1, 1), bias=False)\n",
       "      (_bn0): BatchNorm2d(2304, eps=0.001, momentum=0.010000000000000009, affine=True, track_running_stats=True)\n",
       "      (_depthwise_conv): Conv2dSamePadding(2304, 2304, kernel_size=(3, 3), stride=[1, 1], groups=2304, bias=False)\n",
       "      (_bn1): BatchNorm2d(2304, eps=0.001, momentum=0.010000000000000009, affine=True, track_running_stats=True)\n",
       "      (_se_reduce): Conv2dSamePadding(2304, 96, kernel_size=(1, 1), stride=(1, 1))\n",
       "      (_se_expand): Conv2dSamePadding(96, 2304, kernel_size=(1, 1), stride=(1, 1))\n",
       "      (_project_conv): Conv2dSamePadding(2304, 640, kernel_size=(1, 1), stride=(1, 1), bias=False)\n",
       "      (_bn2): BatchNorm2d(640, eps=0.001, momentum=0.010000000000000009, affine=True, track_running_stats=True)\n",
       "    )\n",
       "    (52): MBConvBlock(\n",
       "      (swish): Swish()\n",
       "      (_expand_conv): Conv2dSamePadding(640, 3840, kernel_size=(1, 1), stride=(1, 1), bias=False)\n",
       "      (_bn0): BatchNorm2d(3840, eps=0.001, momentum=0.010000000000000009, affine=True, track_running_stats=True)\n",
       "      (_depthwise_conv): Conv2dSamePadding(3840, 3840, kernel_size=(3, 3), stride=(1, 1), groups=3840, bias=False)\n",
       "      (_bn1): BatchNorm2d(3840, eps=0.001, momentum=0.010000000000000009, affine=True, track_running_stats=True)\n",
       "      (_se_reduce): Conv2dSamePadding(3840, 160, kernel_size=(1, 1), stride=(1, 1))\n",
       "      (_se_expand): Conv2dSamePadding(160, 3840, kernel_size=(1, 1), stride=(1, 1))\n",
       "      (_project_conv): Conv2dSamePadding(3840, 640, kernel_size=(1, 1), stride=(1, 1), bias=False)\n",
       "      (_bn2): BatchNorm2d(640, eps=0.001, momentum=0.010000000000000009, affine=True, track_running_stats=True)\n",
       "    )\n",
       "    (53): MBConvBlock(\n",
       "      (swish): Swish()\n",
       "      (_expand_conv): Conv2dSamePadding(640, 3840, kernel_size=(1, 1), stride=(1, 1), bias=False)\n",
       "      (_bn0): BatchNorm2d(3840, eps=0.001, momentum=0.010000000000000009, affine=True, track_running_stats=True)\n",
       "      (_depthwise_conv): Conv2dSamePadding(3840, 3840, kernel_size=(3, 3), stride=(1, 1), groups=3840, bias=False)\n",
       "      (_bn1): BatchNorm2d(3840, eps=0.001, momentum=0.010000000000000009, affine=True, track_running_stats=True)\n",
       "      (_se_reduce): Conv2dSamePadding(3840, 160, kernel_size=(1, 1), stride=(1, 1))\n",
       "      (_se_expand): Conv2dSamePadding(160, 3840, kernel_size=(1, 1), stride=(1, 1))\n",
       "      (_project_conv): Conv2dSamePadding(3840, 640, kernel_size=(1, 1), stride=(1, 1), bias=False)\n",
       "      (_bn2): BatchNorm2d(640, eps=0.001, momentum=0.010000000000000009, affine=True, track_running_stats=True)\n",
       "    )\n",
       "    (54): MBConvBlock(\n",
       "      (swish): Swish()\n",
       "      (_expand_conv): Conv2dSamePadding(640, 3840, kernel_size=(1, 1), stride=(1, 1), bias=False)\n",
       "      (_bn0): BatchNorm2d(3840, eps=0.001, momentum=0.010000000000000009, affine=True, track_running_stats=True)\n",
       "      (_depthwise_conv): Conv2dSamePadding(3840, 3840, kernel_size=(3, 3), stride=(1, 1), groups=3840, bias=False)\n",
       "      (_bn1): BatchNorm2d(3840, eps=0.001, momentum=0.010000000000000009, affine=True, track_running_stats=True)\n",
       "      (_se_reduce): Conv2dSamePadding(3840, 160, kernel_size=(1, 1), stride=(1, 1))\n",
       "      (_se_expand): Conv2dSamePadding(160, 3840, kernel_size=(1, 1), stride=(1, 1))\n",
       "      (_project_conv): Conv2dSamePadding(3840, 640, kernel_size=(1, 1), stride=(1, 1), bias=False)\n",
       "      (_bn2): BatchNorm2d(640, eps=0.001, momentum=0.010000000000000009, affine=True, track_running_stats=True)\n",
       "    )\n",
       "  )\n",
       "  (_conv_head): Conv2dSamePadding(640, 2560, kernel_size=(1, 1), stride=(1, 1), bias=False)\n",
       "  (_bn1): BatchNorm2d(2560, eps=0.001, momentum=0.010000000000000009, affine=True, track_running_stats=True)\n",
       "  (_fc): Linear(in_features=2560, out_features=1, bias=True)\n",
       ")"
      ]
     },
     "execution_count": 46,
     "metadata": {},
     "output_type": "execute_result"
    }
   ],
   "source": [
    "net.cuda()\n",
    "# model.load_state_dict(checkpoint['state_dict'])"
   ]
  },
  {
   "cell_type": "code",
   "execution_count": 47,
   "metadata": {
    "scrolled": false
   },
   "outputs": [
    {
     "name": "stderr",
     "output_type": "stream",
     "text": [
      "3197it [07:49,  6.81it/s]"
     ]
    },
    {
     "name": "stdout",
     "output_type": "stream",
     "text": [
      "val_loss:  0.5423486960428706 val_acc:  0.7178604970347036\n"
     ]
    },
    {
     "name": "stderr",
     "output_type": "stream",
     "text": [
      "\n"
     ]
    }
   ],
   "source": [
    "# torch.cuda.set_device(3)\n",
    "# from utils import calculate_accuracy\n",
    "\n",
    "losses_val = AverageMeter('loss')\n",
    "accuracies_val = AverageMeter('acc')\n",
    "net.eval()\n",
    "y = []\n",
    "pred = []\n",
    "\n",
    "#fileio.maybe_make_new_dir(result_path)\n",
    "with torch.no_grad():\n",
    "    for j, data in tqdm(enumerate(valid_loader)):\n",
    "        targets_val = data['label'].float().cuda()\n",
    "        images_val = data['image'].float().cuda()\n",
    "        outputs_val = net(images_val)\n",
    "        loss_val = criterion(outputs_val, targets_val)\n",
    "        \n",
    "#         add_gl_image_index(images_val, patches_val, outputs_val, targets_val,  writer, subset='val', epoch=0, index = j)\n",
    "        \n",
    "        acc_val = calculate_accuracy(outputs_val, targets_val)\n",
    "        losses_val.update(loss_val.item(), targets_val.size(0))\n",
    "        accuracies_val.update(acc_val, targets_val.size(0))\n",
    "        y.append(targets_val.cpu().numpy())\n",
    "        pred.append(outputs_val.cpu().numpy())\n",
    "\n",
    "print('val_loss: ', losses_val.avg, 'val_acc: ', accuracies_val.avg)\n"
   ]
  },
  {
   "cell_type": "code",
   "execution_count": 48,
   "metadata": {},
   "outputs": [],
   "source": [
    "import numpy as np"
   ]
  },
  {
   "cell_type": "code",
   "execution_count": 49,
   "metadata": {},
   "outputs": [],
   "source": [
    "y= np.asarray(y)\n",
    "pred= np.asarray(pred).squeeze()"
   ]
  },
  {
   "cell_type": "code",
   "execution_count": 50,
   "metadata": {},
   "outputs": [
    {
     "data": {
      "text/plain": [
       "(array([[1.],\n",
       "        [1.],\n",
       "        [1.],\n",
       "        ...,\n",
       "        [0.],\n",
       "        [0.],\n",
       "        [0.]], dtype=float32),\n",
       " array([0.64287597, 0.691805  , 0.77381027, ..., 0.15177196, 0.2796317 ,\n",
       "        0.09006868], dtype=float32))"
      ]
     },
     "execution_count": 50,
     "metadata": {},
     "output_type": "execute_result"
    }
   ],
   "source": [
    "y,pred"
   ]
  },
  {
   "cell_type": "code",
   "execution_count": 51,
   "metadata": {},
   "outputs": [
    {
     "data": {
      "text/plain": [
       "(3197, 1)"
      ]
     },
     "execution_count": 51,
     "metadata": {},
     "output_type": "execute_result"
    }
   ],
   "source": [
    "y.shape"
   ]
  },
  {
   "cell_type": "code",
   "execution_count": 52,
   "metadata": {
    "scrolled": true
   },
   "outputs": [
    {
     "data": {
      "image/png": "[encoded data removed]",
      "text/plain": [
       "<Figure size 432x288 with 1 Axes>"
      ]
     },
     "metadata": {
      "needs_background": "light"
     },
     "output_type": "display_data"
    }
   ],
   "source": [
    "from sklearn import metrics\n",
    "\n",
    "%matplotlib inline\n",
    "\n",
    "fpr, tpr, thresholds = metrics.roc_curve(y, pred)\n",
    "\n",
    "roc_auc = metrics.auc(fpr, tpr)\n",
    "\n",
    "plt.figure()\n",
    "lw = 2\n",
    "plt.plot(fpr, tpr, color='darkorange',\n",
    "         lw=lw, label='ROC curve (area = %0.2f)' % roc_auc)\n",
    "plt.plot([0, 1], [0, 1], color='navy', lw=lw, linestyle='--')\n",
    "plt.xlim([0.0, 1.0])\n",
    "plt.ylim([0.0, 1.05])\n",
    "plt.xlabel('False Positive Rate')\n",
    "plt.ylabel('True Positive Rate')\n",
    "plt.title('ROC for effnet b7')\n",
    "plt.legend(loc=\"lower right\")\n",
    "plt.show()"
   ]
  },
  {
   "cell_type": "code",
   "execution_count": null,
   "metadata": {},
   "outputs": [],
   "source": []
  },
  {
   "cell_type": "code",
   "execution_count": 53,
   "metadata": {},
   "outputs": [],
   "source": [
    "from sklearn.metrics import confusion_matrix\n",
    "\n",
    "threshold = 0.35\n",
    "\n",
    "pred_t = pred > threshold\n",
    "pred_t.astype(int)\n",
    "\n",
    "cm = confusion_matrix(y,pred_t)"
   ]
  },
  {
   "cell_type": "code",
   "execution_count": 54,
   "metadata": {},
   "outputs": [
    {
     "data": {
      "text/plain": [
       "(0.41511697660467906, 0.9143790849673202)"
      ]
     },
     "execution_count": 54,
     "metadata": {},
     "output_type": "execute_result"
    }
   ],
   "source": [
    "cm[0,0]/sum(cm[0,:]), cm[1,1]/sum(cm[1,:])"
   ]
  },
  {
   "cell_type": "code",
   "execution_count": 55,
   "metadata": {},
   "outputs": [
    {
     "data": {
      "image/png": "[encoded data removed]",
      "text/plain": [
       "<Figure size 432x288 with 1 Axes>"
      ]
     },
     "metadata": {
      "needs_background": "light"
     },
     "output_type": "display_data"
    }
   ],
   "source": [
    "import numpy\n",
    "from sklearn.metrics import cohen_kappa_score\n",
    "mali = []\n",
    "beni = []\n",
    "cohen = []\n",
    "tt = numpy.arange(0,1,0.01)\n",
    "for thres in tt:\n",
    "#     print(thres)\n",
    "    pred_t = pred > thres\n",
    "    pred_t.astype(int)\n",
    "    cm = confusion_matrix(y,pred_t)\n",
    "    mali.append(cm[1,1]/sum(cm[1,:]))\n",
    "    beni.append(cm[0,0]/sum(cm[0,:]))\n",
    "    cohen.append(cohen_kappa_score(y,pred_t))\n",
    "# print(thresholds)\n",
    "plt.figure(),plt.plot(tt,mali,label='TPR'),plt.plot(tt,beni,label='TNR'),plt.plot(tt,cohen,label='kappa')\n",
    "plt.xlabel('Thresholds')\n",
    "plt.ylabel('TPR/TNR')\n",
    "\n",
    "plt.legend(loc=\"lower right\")\n",
    "\n",
    "\n",
    "net_max = cohen.index(max(cohen))\n",
    "plt.title('TPR/TNR with Thresholds \\n (with max_cohen_kappa_score of {} at {})'.format(max(cohen),tt[net_max]))\n",
    "plt.scatter(tt[net_max], cohen[net_max], color='b')\n",
    "plt.show()"
   ]
  },
  {
   "cell_type": "code",
   "execution_count": 56,
   "metadata": {},
   "outputs": [],
   "source": [
    "def plot_confusion_matrix(cm,\n",
    "                          target_names,\n",
    "                          title='Confusion matrix',\n",
    "                          cmap=None,\n",
    "                          normalize=True):\n",
    "    \"\"\"\n",
    "    given a sklearn confusion matrix (cm), make a nice plot\n",
    "\n",
    "    Arguments\n",
    "    ---------\n",
    "    cm:           confusion matrix from sklearn.metrics.confusion_matrix\n",
    "\n",
    "    target_names: given classification classes such as [0, 1, 2]\n",
    "                  the class names, for example: ['high', 'medium', 'low']\n",
    "\n",
    "    title:        the text to display at the top of the matrix\n",
    "\n",
    "    cmap:         the gradient of the values displayed from matplotlib.pyplot.cm\n",
    "                  see http://matplotlib.org/examples/color/colormaps_reference.html\n",
    "                  plt.get_cmap('jet') or plt.cm.Blues\n",
    "\n",
    "    normalize:    If False, plot the raw numbers\n",
    "                  If True, plot the proportions\n",
    "\n",
    "    Usage\n",
    "    -----\n",
    "    plot_confusion_matrix(cm           = cm,                  # confusion matrix created by\n",
    "                                                              # sklearn.metrics.confusion_matrix\n",
    "                          normalize    = True,                # show proportions\n",
    "                          target_names = y_labels_vals,       # list of names of the classes\n",
    "                          title        = best_estimator_name) # title of graph\n",
    "\n",
    "    Citiation\n",
    "    ---------\n",
    "    http://scikit-learn.org/stable/auto_examples/model_selection/plot_confusion_matrix.html\n",
    "\n",
    "    \"\"\"\n",
    "    import matplotlib.pyplot as plt\n",
    "    import numpy as np\n",
    "    import itertools\n",
    "\n",
    "    accuracy = np.trace(cm) / float(np.sum(cm))\n",
    "    misclass = 1 - accuracy\n",
    "\n",
    "    if cmap is None:\n",
    "        cmap = plt.get_cmap('Blues')\n",
    "    \n",
    "    if normalize:\n",
    "        cm = cm.astype('float') / cm.sum(axis=1)[:, np.newaxis]\n",
    "\n",
    "    plt.figure(figsize=(4, 3))\n",
    "    plt.imshow(cm, interpolation='nearest', cmap=cmap)\n",
    "    plt.title(title)\n",
    "    plt.colorbar()\n",
    "\n",
    "    if target_names is not None:\n",
    "        tick_marks = np.arange(len(target_names))\n",
    "        plt.xticks(tick_marks, target_names, rotation=45)\n",
    "        plt.yticks(tick_marks, target_names)\n",
    "\n",
    "\n",
    "\n",
    "#     plt.figure(figsize=(4, 3))\n",
    "#     plt.imshow(cm, interpolation='nearest', cmap=cmap)\n",
    "#     plt.title(title)\n",
    "#     plt.colorbar()\n",
    "        \n",
    "    thresh = cm.max() / 1.5 if normalize else cm.max() / 2\n",
    "    for i, j in itertools.product(range(cm.shape[0]), range(cm.shape[1])):\n",
    "        if normalize:\n",
    "            plt.text(j, i, \"{:0.4f}\".format(cm[i, j]),\n",
    "                     horizontalalignment=\"center\",\n",
    "                     color=\"white\" if cm[i, j] > thresh else \"black\")\n",
    "        else:\n",
    "            plt.text(j, i, \"{:,}\".format(cm[i, j]),\n",
    "                     horizontalalignment=\"center\",\n",
    "                     color=\"white\" if cm[i, j] > thresh else \"black\")\n",
    "\n",
    "\n",
    "    plt.tight_layout()\n",
    "    plt.ylabel('True label')\n",
    "    plt.xlabel('Predicted label\\naccuracy={:0.4f}; misclass={:0.4f}'.format(accuracy, misclass))\n",
    "    plt.show()"
   ]
  },
  {
   "cell_type": "code",
   "execution_count": 57,
   "metadata": {},
   "outputs": [
    {
     "data": {
      "image/png": "[encoded data removed]",
      "text/plain": [
       "<Figure size 288x216 with 2 Axes>"
      ]
     },
     "metadata": {
      "needs_background": "light"
     },
     "output_type": "display_data"
    },
    {
     "data": {
      "image/png": "[encoded data removed]",
      "text/plain": [
       "<Figure size 288x216 with 2 Axes>"
      ]
     },
     "metadata": {
      "needs_background": "light"
     },
     "output_type": "display_data"
    }
   ],
   "source": [
    "from sklearn.metrics import confusion_matrix\n",
    "\n",
    "threshold = 0.5\n",
    "\n",
    "pred_t = pred > threshold\n",
    "pred_t.astype(int)\n",
    "\n",
    "cm = confusion_matrix(y,pred_t)\n",
    "\n",
    "plot_confusion_matrix(cm,('Normal','Abnormal'),normalize= False)\n",
    "plot_confusion_matrix(cm,('Normal','Abnormal'),normalize= True)"
   ]
  },
  {
   "cell_type": "code",
   "execution_count": 25,
   "metadata": {},
   "outputs": [],
   "source": [
    "a = 0.7"
   ]
  },
  {
   "cell_type": "code",
   "execution_count": 26,
   "metadata": {},
   "outputs": [
    {
     "data": {
      "text/plain": [
       "True"
      ]
     },
     "execution_count": 26,
     "metadata": {},
     "output_type": "execute_result"
    }
   ],
   "source": [
    "a>0.5"
   ]
  },
  {
   "cell_type": "code",
   "execution_count": 28,
   "metadata": {},
   "outputs": [
    {
     "data": {
      "text/plain": [
       "0"
      ]
     },
     "execution_count": 28,
     "metadata": {},
     "output_type": "execute_result"
    }
   ],
   "source": [
    "1-(a>0.50)"
   ]
  },
  {
   "cell_type": "code",
   "execution_count": 43,
   "metadata": {},
   "outputs": [],
   "source": [
    "a = torch.rand(3,3)"
   ]
  },
  {
   "cell_type": "code",
   "execution_count": 44,
   "metadata": {},
   "outputs": [
    {
     "data": {
      "text/plain": [
       "tensor([[0.2847, 0.4820, 0.1940],\n",
       "        [0.7670, 0.0734, 0.9933],\n",
       "        [0.7518, 0.1041, 0.5967]])"
      ]
     },
     "execution_count": 44,
     "metadata": {},
     "output_type": "execute_result"
    }
   ],
   "source": [
    "a"
   ]
  },
  {
   "cell_type": "code",
   "execution_count": 35,
   "metadata": {},
   "outputs": [
    {
     "data": {
      "text/plain": [
       "torch.Size([3, 3])"
      ]
     },
     "execution_count": 35,
     "metadata": {},
     "output_type": "execute_result"
    }
   ],
   "source": [
    "a.shape"
   ]
  },
  {
   "cell_type": "code",
   "execution_count": 36,
   "metadata": {},
   "outputs": [],
   "source": [
    "b = [0,2,1]"
   ]
  },
  {
   "cell_type": "code",
   "execution_count": 37,
   "metadata": {},
   "outputs": [],
   "source": [
    "b = torch.tensor(b)"
   ]
  },
  {
   "cell_type": "code",
   "execution_count": 55,
   "metadata": {},
   "outputs": [],
   "source": [
    "bb = b.reshape(-1,1)"
   ]
  },
  {
   "cell_type": "code",
   "execution_count": 54,
   "metadata": {},
   "outputs": [
    {
     "data": {
      "text/plain": [
       "tensor([0, 2, 1])"
      ]
     },
     "execution_count": 54,
     "metadata": {},
     "output_type": "execute_result"
    }
   ],
   "source": [
    "b"
   ]
  },
  {
   "cell_type": "code",
   "execution_count": 39,
   "metadata": {},
   "outputs": [],
   "source": [
    "l = F.nll_loss(a,b)"
   ]
  },
  {
   "cell_type": "code",
   "execution_count": 40,
   "metadata": {},
   "outputs": [
    {
     "data": {
      "text/plain": [
       "tensor(-0.5024)"
      ]
     },
     "execution_count": 40,
     "metadata": {},
     "output_type": "execute_result"
    }
   ],
   "source": [
    "l"
   ]
  },
  {
   "cell_type": "code",
   "execution_count": 46,
   "metadata": {},
   "outputs": [],
   "source": [
    "sm = nn.LogSoftmax(dim=1)"
   ]
  },
  {
   "cell_type": "code",
   "execution_count": 47,
   "metadata": {},
   "outputs": [],
   "source": [
    "aa = sm(a)"
   ]
  },
  {
   "cell_type": "code",
   "execution_count": 48,
   "metadata": {},
   "outputs": [
    {
     "data": {
      "text/plain": [
       "tensor([[-1.1415, -0.9442, -1.2322],\n",
       "        [-1.0130, -1.7066, -0.7866],\n",
       "        [-0.8669, -1.5147, -1.0220]])"
      ]
     },
     "execution_count": 48,
     "metadata": {},
     "output_type": "execute_result"
    }
   ],
   "source": [
    "aa"
   ]
  },
  {
   "cell_type": "code",
   "execution_count": 56,
   "metadata": {},
   "outputs": [
    {
     "ename": "RuntimeError",
     "evalue": "multi-target not supported at ..\\aten\\src\\THNN/generic/ClassNLLCriterion.c:20",
     "output_type": "error",
     "traceback": [
      "\u001b[1;31m---------------------------------------------------------------------------\u001b[0m",
      "\u001b[1;31mRuntimeError\u001b[0m                              Traceback (most recent call last)",
      "\u001b[1;32m<ipython-input-56-4df793c4604a>\u001b[0m in \u001b[0;36m<module>\u001b[1;34m\u001b[0m\n\u001b[1;32m----> 1\u001b[1;33m \u001b[0ml\u001b[0m \u001b[1;33m=\u001b[0m \u001b[0mF\u001b[0m\u001b[1;33m.\u001b[0m\u001b[0mnll_loss\u001b[0m\u001b[1;33m(\u001b[0m\u001b[0maa\u001b[0m\u001b[1;33m,\u001b[0m\u001b[0mbb\u001b[0m\u001b[1;33m)\u001b[0m\u001b[1;33m\u001b[0m\u001b[1;33m\u001b[0m\u001b[0m\n\u001b[0m",
      "\u001b[1;32m~\\Anaconda3\\envs\\fastai\\lib\\site-packages\\torch\\nn\\functional.py\u001b[0m in \u001b[0;36mnll_loss\u001b[1;34m(input, target, weight, size_average, ignore_index, reduce, reduction)\u001b[0m\n\u001b[0;32m   1869\u001b[0m                          .format(input.size(0), target.size(0)))\n\u001b[0;32m   1870\u001b[0m     \u001b[1;32mif\u001b[0m \u001b[0mdim\u001b[0m \u001b[1;33m==\u001b[0m \u001b[1;36m2\u001b[0m\u001b[1;33m:\u001b[0m\u001b[1;33m\u001b[0m\u001b[1;33m\u001b[0m\u001b[0m\n\u001b[1;32m-> 1871\u001b[1;33m         \u001b[0mret\u001b[0m \u001b[1;33m=\u001b[0m \u001b[0mtorch\u001b[0m\u001b[1;33m.\u001b[0m\u001b[0m_C\u001b[0m\u001b[1;33m.\u001b[0m\u001b[0m_nn\u001b[0m\u001b[1;33m.\u001b[0m\u001b[0mnll_loss\u001b[0m\u001b[1;33m(\u001b[0m\u001b[0minput\u001b[0m\u001b[1;33m,\u001b[0m \u001b[0mtarget\u001b[0m\u001b[1;33m,\u001b[0m \u001b[0mweight\u001b[0m\u001b[1;33m,\u001b[0m \u001b[0m_Reduction\u001b[0m\u001b[1;33m.\u001b[0m\u001b[0mget_enum\u001b[0m\u001b[1;33m(\u001b[0m\u001b[0mreduction\u001b[0m\u001b[1;33m)\u001b[0m\u001b[1;33m,\u001b[0m \u001b[0mignore_index\u001b[0m\u001b[1;33m)\u001b[0m\u001b[1;33m\u001b[0m\u001b[1;33m\u001b[0m\u001b[0m\n\u001b[0m\u001b[0;32m   1872\u001b[0m     \u001b[1;32melif\u001b[0m \u001b[0mdim\u001b[0m \u001b[1;33m==\u001b[0m \u001b[1;36m4\u001b[0m\u001b[1;33m:\u001b[0m\u001b[1;33m\u001b[0m\u001b[1;33m\u001b[0m\u001b[0m\n\u001b[0;32m   1873\u001b[0m         \u001b[0mret\u001b[0m \u001b[1;33m=\u001b[0m \u001b[0mtorch\u001b[0m\u001b[1;33m.\u001b[0m\u001b[0m_C\u001b[0m\u001b[1;33m.\u001b[0m\u001b[0m_nn\u001b[0m\u001b[1;33m.\u001b[0m\u001b[0mnll_loss2d\u001b[0m\u001b[1;33m(\u001b[0m\u001b[0minput\u001b[0m\u001b[1;33m,\u001b[0m \u001b[0mtarget\u001b[0m\u001b[1;33m,\u001b[0m \u001b[0mweight\u001b[0m\u001b[1;33m,\u001b[0m \u001b[0m_Reduction\u001b[0m\u001b[1;33m.\u001b[0m\u001b[0mget_enum\u001b[0m\u001b[1;33m(\u001b[0m\u001b[0mreduction\u001b[0m\u001b[1;33m)\u001b[0m\u001b[1;33m,\u001b[0m \u001b[0mignore_index\u001b[0m\u001b[1;33m)\u001b[0m\u001b[1;33m\u001b[0m\u001b[1;33m\u001b[0m\u001b[0m\n",
      "\u001b[1;31mRuntimeError\u001b[0m: multi-target not supported at ..\\aten\\src\\THNN/generic/ClassNLLCriterion.c:20"
     ]
    }
   ],
   "source": [
    "l = F.nll_loss(aa,bb)"
   ]
  },
  {
   "cell_type": "code",
   "execution_count": 53,
   "metadata": {},
   "outputs": [
    {
     "data": {
      "text/plain": [
       "tensor(1.1476)"
      ]
     },
     "execution_count": 53,
     "metadata": {},
     "output_type": "execute_result"
    }
   ],
   "source": [
    "l"
   ]
  },
  {
   "cell_type": "code",
   "execution_count": 59,
   "metadata": {},
   "outputs": [],
   "source": [
    "a = np.random.rand(3,4)"
   ]
  },
  {
   "cell_type": "code",
   "execution_count": 66,
   "metadata": {},
   "outputs": [],
   "source": [
    "b = np.random.rand(2,4)"
   ]
  },
  {
   "cell_type": "code",
   "execution_count": 72,
   "metadata": {},
   "outputs": [],
   "source": [
    "t = [a,b]"
   ]
  },
  {
   "cell_type": "code",
   "execution_count": 73,
   "metadata": {},
   "outputs": [
    {
     "data": {
      "text/plain": [
       "(2,)"
      ]
     },
     "execution_count": 73,
     "metadata": {},
     "output_type": "execute_result"
    }
   ],
   "source": [
    "np.array(t).shape"
   ]
  },
  {
   "cell_type": "code",
   "execution_count": 74,
   "metadata": {},
   "outputs": [
    {
     "data": {
      "text/plain": [
       "array([[0.255251, 0.802925, 0.39936 , 0.069087],\n",
       "       [0.192725, 0.195726, 0.765414, 0.068067]])"
      ]
     },
     "execution_count": 74,
     "metadata": {},
     "output_type": "execute_result"
    }
   ],
   "source": [
    "t.pop()"
   ]
  },
  {
   "cell_type": "code",
   "execution_count": 75,
   "metadata": {},
   "outputs": [
    {
     "data": {
      "text/plain": [
       "array([[0.269292, 0.443954, 0.016551, 0.314709],\n",
       "       [0.903049, 0.930926, 0.752409, 0.969705],\n",
       "       [0.035113, 0.174226, 0.025869, 0.240254]])"
      ]
     },
     "execution_count": 75,
     "metadata": {},
     "output_type": "execute_result"
    }
   ],
   "source": [
    "t.pop()"
   ]
  },
  {
   "cell_type": "code",
   "execution_count": 76,
   "metadata": {},
   "outputs": [
    {
     "ename": "IndexError",
     "evalue": "list index out of range",
     "output_type": "error",
     "traceback": [
      "\u001b[1;31m---------------------------------------------------------------------------\u001b[0m",
      "\u001b[1;31mIndexError\u001b[0m                                Traceback (most recent call last)",
      "\u001b[1;32m<ipython-input-76-a471f56f22a6>\u001b[0m in \u001b[0;36m<module>\u001b[1;34m\u001b[0m\n\u001b[1;32m----> 1\u001b[1;33m \u001b[0mt\u001b[0m\u001b[1;33m[\u001b[0m\u001b[1;36m0\u001b[0m\u001b[1;33m]\u001b[0m\u001b[1;33m\u001b[0m\u001b[1;33m\u001b[0m\u001b[0m\n\u001b[0m",
      "\u001b[1;31mIndexError\u001b[0m: list index out of range"
     ]
    }
   ],
   "source": [
    "t[0]"
   ]
  },
  {
   "cell_type": "code",
   "execution_count": null,
   "metadata": {},
   "outputs": [],
   "source": []
  }
 ],
 "metadata": {
  "kernelspec": {
   "display_name": "env_torch",
   "language": "python",
   "name": "env_torch"
  },
  "language_info": {
   "codemirror_mode": {
    "name": "ipython",
    "version": 3
   },
   "file_extension": ".py",
   "mimetype": "text/x-python",
   "name": "python",
   "nbconvert_exporter": "python",
   "pygments_lexer": "ipython3",
   "version": "3.7.6"
  }
 },
 "nbformat": 4,
 "nbformat_minor": 2
}
